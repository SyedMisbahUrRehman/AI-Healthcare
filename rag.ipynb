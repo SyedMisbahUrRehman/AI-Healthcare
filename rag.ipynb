{
 "cells": [
  {
   "cell_type": "code",
   "execution_count": null,
   "id": "7d107969",
   "metadata": {},
   "outputs": [],
   "source": [
    "# Install required packages\n",
    "%pip install python-dotenv langchain-groq --quiet\n"
   ]
  },
  {
   "cell_type": "code",
   "execution_count": null,
   "id": "6e2361a2",
   "metadata": {},
   "outputs": [],
   "source": [
    "# Create .env file if it doesn't exist\n",
    "import os\n",
    "\n",
    "env_content = \"\"\"# Groq API Configuration\n",
    "GROQ_API_KEY=your_groq_api_key_here\n",
    "\n",
    "# Add other environment variables as needed\n",
    "# OPENAI_API_KEY=your_openai_key_here\n",
    "# ANTHROPIC_API_KEY=your_anthropic_key_here\"\"\"\n",
    "\n",
    "if not os.path.exists('.env'):\n",
    "    with open('.env', 'w') as f:\n",
    "        f.write(env_content)\n",
    "    print(\"✅ Created .env file template\")\n",
    "    print(\"📝 Please edit .env file and add your actual GROQ_API_KEY\")\n",
    "else:\n",
    "    print(\"✅ .env file already exists\")\n"
   ]
  },
  {
   "cell_type": "markdown",
   "id": "e408d96b",
   "metadata": {},
   "source": [
    "**1. Load Documents**"
   ]
  },
  {
   "cell_type": "code",
   "execution_count": 14,
   "id": "8be4e5c1",
   "metadata": {},
   "outputs": [],
   "source": [
    "from langchain.document_loaders import PyPDFLoader, WebBaseLoader\n",
    "\n",
    "# # --- 1️⃣ Load Multiple PDFs ---\n",
    "# pdf_files = [\n",
    "#     \"WHO_BP_guidelines.pdf\",\n",
    "#     \"Diabetes_guidelines.pdf\",\n",
    "#     \"Cholesterol_guidelines.pdf\",\n",
    "#     \"BMI_guidelines.pdf\",\n",
    "#     \"Smoking_guidelines.pdf\"\n",
    "# ]\n",
    "\n",
    "# pdf_docs = []\n",
    "# for file in pdf_files:\n",
    "#     loader = PyPDFLoader(file)\n",
    "#     pdf_docs.extend(loader.load())\n",
    "\n",
    "# --- 2️⃣ Load Multiple Websites ---\n",
    "web_pages = [\n",
    "    \"https://www.who.int/news-room/fact-sheets/detail/hypertension\",\n",
    "    \"https://www.who.int/news-room/fact-sheets/detail/diabetes\",\n",
    "    \"https://www.who.int/news-room/fact-sheets/detail/obesity\",\n",
    "    \"https://www.cdc.gov/cholesterol/facts.html\",\n",
    "    \"https://www.cdc.gov/tobacco/data_statistics/fact_sheets/index.htm\"\n",
    "]\n",
    "\n",
    "web_docs = []\n",
    "for url in web_pages:\n",
    "    loader = WebBaseLoader(url)\n",
    "    web_docs.extend(loader.load())\n",
    "\n",
    "# --- 3️⃣ Combine all docs and split into chunks ---\n",
    "all_docs = web_docs\n"
   ]
  },
  {
   "cell_type": "markdown",
   "id": "cec345a3",
   "metadata": {},
   "source": [
    "**2. Split Text into Chunks**"
   ]
  },
  {
   "cell_type": "code",
   "execution_count": 15,
   "id": "0aafcddc",
   "metadata": {},
   "outputs": [],
   "source": [
    "from langchain.text_splitter import RecursiveCharacterTextSplitter\n",
    "\n",
    "text_splitter = RecursiveCharacterTextSplitter(chunk_size=500, chunk_overlap=50)\n",
    "web_chunks = text_splitter.split_documents(all_docs)\n"
   ]
  },
  {
   "cell_type": "markdown",
   "id": "914693ad",
   "metadata": {},
   "source": [
    "**3. Create Vector DB**"
   ]
  },
  {
   "cell_type": "code",
   "execution_count": 16,
   "id": "bacd358b",
   "metadata": {},
   "outputs": [
    {
     "name": "stdout",
     "output_type": "stream",
     "text": [
      "✅ Vector DB created successfully\n"
     ]
    }
   ],
   "source": [
    "from langchain_community.vectorstores import Chroma\n",
    "from langchain.embeddings import HuggingFaceEmbeddings\n",
    "\n",
    "embeddings = HuggingFaceEmbeddings(model_name=\"sentence-transformers/all-MiniLM-L6-v2\")\n",
    "\n",
    "# Use 'embedding' instead of 'embedding_function'\n",
    "vectordb = Chroma.from_documents(\n",
    "    web_chunks,\n",
    "    embedding=embeddings,        # Correct parameter name\n",
    "    persist_directory=\"rag_db\"\n",
    ")\n",
    "\n",
    "vectordb.persist()\n",
    "print(\"✅ Vector DB created successfully\")\n"
   ]
  },
  {
   "cell_type": "markdown",
   "id": "b159f89a",
   "metadata": {},
   "source": [
    "**4. Query RAG with Input Vitals + Prediction**"
   ]
  },
  {
   "cell_type": "code",
   "execution_count": 17,
   "id": "5083c1d8",
   "metadata": {},
   "outputs": [
    {
     "name": "stdout",
     "output_type": "stream",
     "text": [
      "in the vessels when the heart rests between beats.Hypertension is diagnosed if, when it is measured on two different days, the systolic blood pressure readings on both days is ≥140 mmHg and/or the diastolic blood pressure readings on both days is ≥90 mmHg.Risk factorsModifiable risk factors include unhealthy diets (excessive salt consumption, a diet high in saturated fat and trans fats, low intake of fruits and vegetables), physical inactivity, consumption of tobacco and alcohol, and being\n",
      "in the vessels when the heart rests between beats.Hypertension is diagnosed if, when it is measured on two different days, the systolic blood pressure readings on both days is ≥140 mmHg and/or the diastolic blood pressure readings on both days is ≥90 mmHg.Risk factorsModifiable risk factors include unhealthy diets (excessive salt consumption, a diet high in saturated fat and trans fats, low intake of fruits and vegetables), physical inactivity, consumption of tobacco and alcohol, and being\n",
      "professional.Keep appointments with your health care professional.Don’t:eat too much salty food (try to stay under 2 grams per day)eat foods high in saturated or trans fatssmoke or use tobaccodrink too much alcohol (1 drink daily max for women, 2 for men)miss or share medication.Reducing hypertension prevents heart attack, stroke and kidney damage, as well as other health problems. Reduce the risks of hypertension by: reducing and managing stressregularly checking blood pressuretreating high\n",
      "professional.Keep appointments with your health care professional.Don’t:eat too much salty food (try to stay under 2 grams per day)eat foods high in saturated or trans fatssmoke or use tobaccodrink too much alcohol (1 drink daily max for women, 2 for men)miss or share medication.Reducing hypertension prevents heart attack, stroke and kidney damage, as well as other health problems. Reduce the risks of hypertension by: reducing and managing stressregularly checking blood pressuretreating high\n",
      "uncontrolled hypertension by 25% between 2010 and 2025.OverviewHypertension (high blood pressure) is when the pressure in your blood vessels is too high (140/90 mmHg or higher). It is common but can be serious if not treated.People with high blood pressure may not feel symptoms. The only way to know is to get your blood pressure checked.Things that increase the risk of having high blood pressure include:older age geneticsbeing overweight or obesenot being physically active high-salt\n"
     ]
    }
   ],
   "source": [
    "retriever = vectordb.as_retriever(search_kwargs={\"k\": 5})\n",
    "query = \"BP=150/95, Chol=220, BMI=32, Prediction: High risk\"\n",
    "relevant_docs = retriever.get_relevant_documents(query)\n",
    "\n",
    "for doc in relevant_docs:\n",
    "    print(doc.page_content)\n"
   ]
  },
  {
   "cell_type": "code",
   "execution_count": 20,
   "id": "32185614",
   "metadata": {},
   "outputs": [
    {
     "name": "stdout",
     "output_type": "stream",
     "text": [
      "✅ GROQ_API_KEY loaded successfully\n",
      "=== Diagnosis Explanation ===\n",
      "{'query': '\\nPatient vitals: BP=150/95, Cholesterol=220, BMI=32, Smoker=yes, Diabetic=no.\\nPredicted risk: High.\\nPlease provide:\\n1. Explanation of the risk\\n2. Possible diagnosis\\n3. Suggested actions or next steps\\n', 'result': \"**1. Explanation of the risk:**\\nThe patient's predicted risk is high due to several factors:\\n\\n- Elevated blood pressure (BP=150/95): The systolic blood pressure is above 140 mmHg, and the diastolic blood pressure is above 90 mmHg, indicating hypertension.\\n- High cholesterol (Cholesterol=220): This is above the normal range, indicating hypercholesterolemia.\\n- High BMI (BMI=32): This indicates obesity, which is a significant risk factor for various health conditions, including hypertension and cardiovascular disease.\\n- Smoking status (Smoker=yes): Smoking is a major risk factor for cardiovascular disease and other health conditions.\\n\\n**2. Possible diagnosis:**\\nBased on the patient's symptoms and vitals, possible diagnoses include:\\n\\n- Hypertension (high blood pressure)\\n- Hypercholesterolemia (high cholesterol)\\n- Obesity (BMI=32)\\n- Cardiovascular disease (due to high blood pressure, high cholesterol, and smoking)\\n\\n**3. Suggested actions or next steps:**\\n\\n- **Immediate actions:**\\n  - Schedule a follow-up appointment with the patient to discuss the results and develop a plan to manage their condition.\\n  - Encourage the patient to quit smoking and provide resources for smoking cessation.\\n  - Recommend lifestyle changes, such as a healthy diet, regular exercise, and stress management.\\n\\n- **Further testing:**\\n  - Order additional tests to confirm the diagnosis, such as a fasting lipid profile, a glucose tolerance test, and an electrocardiogram (ECG).\\n  - Consider ordering imaging tests, such as an echocardiogram or a carotid ultrasound, to assess the patient's cardiovascular health.\\n\\n- **Treatment plan:**\\n  - Develop a treatment plan to manage the patient's hypertension, hypercholesterolemia, and obesity, which may include medication, lifestyle changes, and referrals to specialists (e.g., a cardiologist or a registered dietitian).\\n  - Encourage the patient to adhere to the treatment plan and schedule regular follow-up appointments to monitor their progress.\", 'source_documents': [Document(metadata={'source': 'https://www.who.int/news-room/fact-sheets/detail/hypertension', 'language': 'en', 'description': \"WHO fact sheet on hypertension including information on prevalence, risk factors, symptoms, prevention, treatment and WHO's work in this area. \", 'title': '\\r\\n\\tHypertension\\r\\n'}, page_content='in the vessels when the heart rests between beats.Hypertension is diagnosed if, when it is measured on two different days, the systolic blood pressure readings on both days is ≥140 mmHg and/or the diastolic blood pressure readings on both days is ≥90 mmHg.Risk factorsModifiable risk factors include unhealthy diets (excessive salt consumption, a diet high in saturated fat and trans fats, low intake of fruits and vegetables), physical inactivity, consumption of tobacco and alcohol, and being'), Document(metadata={'description': \"WHO fact sheet on hypertension including information on prevalence, risk factors, symptoms, prevention, treatment and WHO's work in this area. \", 'language': 'en', 'source': 'https://www.who.int/news-room/fact-sheets/detail/hypertension', 'title': '\\r\\n\\tHypertension\\r\\n'}, page_content='in the vessels when the heart rests between beats.Hypertension is diagnosed if, when it is measured on two different days, the systolic blood pressure readings on both days is ≥140 mmHg and/or the diastolic blood pressure readings on both days is ≥90 mmHg.Risk factorsModifiable risk factors include unhealthy diets (excessive salt consumption, a diet high in saturated fat and trans fats, low intake of fruits and vegetables), physical inactivity, consumption of tobacco and alcohol, and being'), Document(metadata={'source': 'https://www.who.int/news-room/fact-sheets/detail/hypertension', 'description': \"WHO fact sheet on hypertension including information on prevalence, risk factors, symptoms, prevention, treatment and WHO's work in this area. \", 'title': '\\r\\n\\tHypertension\\r\\n', 'language': 'en'}, page_content='consumption of tobacco and alcohol, and being overweight or obese. In addition, there are environmental risk factors for hypertension and associated diseases, where air pollution is the most significant.\\xa0 Non-modifiable risk factors include a family history of hypertension, age over 65 years and co-existing diseases such as diabetes or kidney disease.SymptomsMost people with hypertension don’t feel any symptoms. Very high blood pressures can cause\\xa0headaches, blurred vision, chest pain and other'), Document(metadata={'title': '\\r\\n\\tHypertension\\r\\n', 'language': 'en', 'source': 'https://www.who.int/news-room/fact-sheets/detail/hypertension', 'description': \"WHO fact sheet on hypertension including information on prevalence, risk factors, symptoms, prevention, treatment and WHO's work in this area. \"}, page_content='consumption of tobacco and alcohol, and being overweight or obese. In addition, there are environmental risk factors for hypertension and associated diseases, where air pollution is the most significant.\\xa0 Non-modifiable risk factors include a family history of hypertension, age over 65 years and co-existing diseases such as diabetes or kidney disease.SymptomsMost people with hypertension don’t feel any symptoms. Very high blood pressures can cause\\xa0headaches, blurred vision, chest pain and other'), Document(metadata={'title': '\\r\\n\\tDiabetes\\r\\n', 'source': 'https://www.who.int/news-room/fact-sheets/detail/diabetes', 'language': 'en', 'description': 'Diabetes factsheet from WHO providing key facts and information on types of diabetes, symptoms, common consequences, economic impact, diagnosis and treatment, WHO response. '}, page_content='530 000 kidney disease deaths were caused by diabetes, and high blood glucose causes around 11% of cardiovascular deaths (1).Since 2000, mortality rates from diabetes have been increasing. By contrast, the probability of dying from any one of the four main noncommunicable diseases (cardiovascular diseases, cancer, chronic respiratory diseases or diabetes) between the ages of 30 and 70 decreased by 20% globally between 2000 and 2019.')]}\n"
     ]
    }
   ],
   "source": [
    "from langchain_groq import ChatGroq\n",
    "from langchain.chains import RetrievalQA\n",
    "import os\n",
    "from dotenv import load_dotenv\n",
    "\n",
    "# Load environment variables from .env file\n",
    "load_dotenv()\n",
    "\n",
    "# Check if API key is loaded\n",
    "api_key = os.getenv(\"GROQ_API_KEY\")\n",
    "if not api_key:\n",
    "    print(\"❌ GROQ_API_KEY not found in environment variables!\")\n",
    "    print(\"Please create a .env file with: GROQ_API_KEY=your_actual_key_here\")\n",
    "    print(\"Or set it directly: groq = ChatGroq(groq_api_key='your_key_here', ...)\")\n",
    "else:\n",
    "    print(\"✅ GROQ_API_KEY loaded successfully\")\n",
    "\n",
    "groq = ChatGroq(groq_api_key=api_key, model=\"llama-3.1-8b-instant\", temperature=0.3)\n",
    "\n",
    "# RetrievalQA chain: LLM + RAG\n",
    "qa_chain = RetrievalQA.from_chain_type(\n",
    "    llm=groq,\n",
    "    chain_type=\"stuff\",  # combines all retrieved chunks\n",
    "    retriever=retriever, # your vectordb retriever\n",
    "    return_source_documents=True\n",
    ")\n",
    "\n",
    "# Query includes vitals + prediction\n",
    "query = \"\"\"\n",
    "Patient vitals: BP=150/95, Cholesterol=220, BMI=32, Smoker=yes, Diabetic=no.\n",
    "Predicted risk: High.\n",
    "Please provide:\n",
    "1. Explanation of the risk\n",
    "2. Possible diagnosis\n",
    "3. Suggested actions or next steps\n",
    "\"\"\"\n",
    "result = qa_chain(query)\n",
    "\n",
    "print(\"=== Diagnosis Explanation ===\")\n",
    "print(result)\n"
   ]
  },
  {
   "cell_type": "code",
   "execution_count": 19,
   "id": "e1e013ad",
   "metadata": {},
   "outputs": [
    {
     "name": "stdout",
     "output_type": "stream",
     "text": [
      "None\n"
     ]
    }
   ],
   "source": [
    "print(os.getenv(\"GROQ_API_KEY\"))"
   ]
  },
  {
   "cell_type": "code",
   "execution_count": null,
   "id": "f96ad511",
   "metadata": {},
   "outputs": [],
   "source": []
  }
 ],
 "metadata": {
  "kernelspec": {
   "display_name": "Python 3",
   "language": "python",
   "name": "python3"
  },
  "language_info": {
   "codemirror_mode": {
    "name": "ipython",
    "version": 3
   },
   "file_extension": ".py",
   "mimetype": "text/x-python",
   "name": "python",
   "nbconvert_exporter": "python",
   "pygments_lexer": "ipython3",
   "version": "3.13.2"
  }
 },
 "nbformat": 4,
 "nbformat_minor": 5
}
