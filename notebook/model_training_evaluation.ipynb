{
  "cells": [
    {
      "cell_type": "code",
      "execution_count": null,
      "metadata": {
        "colab": {
          "base_uri": "https://localhost:8080/",
          "height": 390
        },
        "id": "9fUqkzwzvcnX",
        "outputId": "9f234fc9-9650-4c3c-efb4-ad06c2c860d2"
      },
      "outputs": [
        {
          "name": "stdout",
          "output_type": "stream",
          "text": [
            "<class 'pandas.core.frame.DataFrame'>\n",
            "RangeIndex: 1000 entries, 0 to 999\n",
            "Data columns (total 9 columns):\n",
            " #   Column        Non-Null Count  Dtype  \n",
            "---  ------        --------------  -----  \n",
            " 0   Gender        1000 non-null   object \n",
            " 1   Age           1000 non-null   int64  \n",
            " 2   Systolic BP   1000 non-null   int64  \n",
            " 3   Diastolic BP  1000 non-null   float64\n",
            " 4   Cholesterol   1000 non-null   int64  \n",
            " 5   BMI           1000 non-null   float64\n",
            " 6   Smoker        1000 non-null   bool   \n",
            " 7   Diabetes      1000 non-null   bool   \n",
            " 8   Health        1000 non-null   object \n",
            "dtypes: bool(2), float64(2), int64(3), object(2)\n",
            "memory usage: 56.8+ KB\n"
          ]
        },
        {
          "data": {
            "text/html": [
              "<div>\n",
              "<style scoped>\n",
              "    .dataframe tbody tr th:only-of-type {\n",
              "        vertical-align: middle;\n",
              "    }\n",
              "\n",
              "    .dataframe tbody tr th {\n",
              "        vertical-align: top;\n",
              "    }\n",
              "\n",
              "    .dataframe thead th {\n",
              "        text-align: right;\n",
              "    }\n",
              "</style>\n",
              "<table border=\"1\" class=\"dataframe\">\n",
              "  <thead>\n",
              "    <tr style=\"text-align: right;\">\n",
              "      <th></th>\n",
              "      <th>Gender</th>\n",
              "      <th>Age</th>\n",
              "      <th>Systolic BP</th>\n",
              "      <th>Diastolic BP</th>\n",
              "      <th>Cholesterol</th>\n",
              "      <th>BMI</th>\n",
              "      <th>Smoker</th>\n",
              "      <th>Diabetes</th>\n",
              "      <th>Health</th>\n",
              "    </tr>\n",
              "  </thead>\n",
              "  <tbody>\n",
              "    <tr>\n",
              "      <th>0</th>\n",
              "      <td>male</td>\n",
              "      <td>35</td>\n",
              "      <td>129</td>\n",
              "      <td>83.0</td>\n",
              "      <td>188</td>\n",
              "      <td>25.82</td>\n",
              "      <td>False</td>\n",
              "      <td>True</td>\n",
              "      <td>Fair</td>\n",
              "    </tr>\n",
              "    <tr>\n",
              "      <th>1</th>\n",
              "      <td>male</td>\n",
              "      <td>70</td>\n",
              "      <td>133</td>\n",
              "      <td>95.0</td>\n",
              "      <td>224</td>\n",
              "      <td>29.73</td>\n",
              "      <td>False</td>\n",
              "      <td>False</td>\n",
              "      <td>Fair</td>\n",
              "    </tr>\n",
              "    <tr>\n",
              "      <th>2</th>\n",
              "      <td>male</td>\n",
              "      <td>79</td>\n",
              "      <td>149</td>\n",
              "      <td>88.0</td>\n",
              "      <td>179</td>\n",
              "      <td>25.02</td>\n",
              "      <td>True</td>\n",
              "      <td>True</td>\n",
              "      <td>Bad</td>\n",
              "    </tr>\n",
              "    <tr>\n",
              "      <th>3</th>\n",
              "      <td>female</td>\n",
              "      <td>52</td>\n",
              "      <td>115</td>\n",
              "      <td>76.0</td>\n",
              "      <td>204</td>\n",
              "      <td>33.25</td>\n",
              "      <td>False</td>\n",
              "      <td>False</td>\n",
              "      <td>Fair</td>\n",
              "    </tr>\n",
              "    <tr>\n",
              "      <th>4</th>\n",
              "      <td>male</td>\n",
              "      <td>51</td>\n",
              "      <td>135</td>\n",
              "      <td>82.0</td>\n",
              "      <td>201</td>\n",
              "      <td>18.13</td>\n",
              "      <td>False</td>\n",
              "      <td>False</td>\n",
              "      <td>Fair</td>\n",
              "    </tr>\n",
              "  </tbody>\n",
              "</table>\n",
              "</div>"
            ],
            "text/plain": [
              "   Gender  Age  Systolic BP  Diastolic BP  Cholesterol    BMI  Smoker  \\\n",
              "0    male   35          129          83.0          188  25.82   False   \n",
              "1    male   70          133          95.0          224  29.73   False   \n",
              "2    male   79          149          88.0          179  25.02    True   \n",
              "3  female   52          115          76.0          204  33.25   False   \n",
              "4    male   51          135          82.0          201  18.13   False   \n",
              "\n",
              "   Diabetes Health  \n",
              "0      True   Fair  \n",
              "1     False   Fair  \n",
              "2      True    Bad  \n",
              "3     False   Fair  \n",
              "4     False   Fair  "
            ]
          },
          "execution_count": 85,
          "metadata": {},
          "output_type": "execute_result"
        }
      ],
      "source": [
        "import pandas as pd\n",
        "\n",
        "# Load your cleaned dataset\n",
        "df = pd.read_csv(\"cleaned_health_data.csv\")\n",
        "\n",
        "\n",
        "df.info()\n",
        "# Preview first few rows\n",
        "df.head()\n"
      ]
    },
    {
      "cell_type": "markdown",
      "metadata": {
        "id": "N-HX00Mk10Kp"
      },
      "source": [
        "# **Create the Health_Risk target column**"
      ]
    },
    {
      "cell_type": "code",
      "execution_count": 80,
      "metadata": {
        "colab": {
          "base_uri": "https://localhost:8080/",
          "height": 209
        },
        "id": "uEu0WnLz1baR",
        "outputId": "8eca09dd-922d-4d6e-83a5-aaa5c8782382"
      },
      "outputs": [
        {
          "data": {
            "text/plain": [
              "Health_Risk\n",
              "Medium    665\n",
              "High      234\n",
              "Low       101\n",
              "Name: count, dtype: int64"
            ]
          },
          "execution_count": 80,
          "metadata": {},
          "output_type": "execute_result"
        }
      ],
      "source": [
        "import numpy as np\n",
        "\n",
        "def determine_risk(row):\n",
        "    # Extract values\n",
        "    sbp = row['Systolic BP']\n",
        "    dbp = row['Diastolic BP']\n",
        "    chol = row['Cholesterol']\n",
        "\n",
        "    # Define risk rules\n",
        "    if sbp >= 140 or dbp >= 90 or chol >= 240:\n",
        "        return \"High\"\n",
        "    elif (120 <= sbp < 140) or (80 <= dbp < 90) or (200 <= chol < 240):\n",
        "        return \"Medium\"\n",
        "    else:\n",
        "        return \"Low\"\n",
        "\n",
        "# Apply function\n",
        "df['Health_Risk'] = df.apply(determine_risk, axis=1)\n",
        "\n",
        "# Verify distribution\n",
        "df['Health_Risk'].value_counts()\n"
      ]
    },
    {
      "cell_type": "markdown",
      "metadata": {
        "id": "pemYGkvg2I0_"
      },
      "source": [
        "| Risk Level        | Count  | Share                                            | Meaning |\n",
        "| ----------------- | ------ | ------------------------------------------------ | ------- |\n",
        "| **Medium (≈66%)** | 19,950 | Majority class — borderline risk population      |         |\n",
        "| **High (≈23%)**   | 7,020  | Significant portion — needs model precision here |         |\n",
        "| **Low (≈10%)**    | 3,030  | Undersampled class — minority “healthy” group    |         |\n",
        "\n"
      ]
    },
    {
      "cell_type": "markdown",
      "metadata": {
        "id": "0269A5vG2W3k"
      },
      "source": [
        "# **Defining your features and target**"
      ]
    },
    {
      "cell_type": "code",
      "execution_count": 86,
      "metadata": {
        "colab": {
          "base_uri": "https://localhost:8080/"
        },
        "id": "_EI2TR_W1ytb",
        "outputId": "35ae18f1-64c8-436d-c271-be2f12d10b8c"
      },
      "outputs": [
        {
          "data": {
            "text/plain": [
              "((1000, 8), (1000,))"
            ]
          },
          "execution_count": 86,
          "metadata": {},
          "output_type": "execute_result"
        }
      ],
      "source": [
        "# Drop unnecessary or leakage columns\n",
        "# df = df.drop(columns=[\n",
        "#           # index col\n",
        "#     # 'Health',          # unclear label, might overlap\n",
        "#     # 'Age',            # not useful here\n",
        "#     'Systolic BP',     # used in target creation (leakage)\n",
        "#     'Diastolic BP',    # used in target creation (leakage)\n",
        "#     'Cholesterol'      # used in target creation (leakage)\n",
        "# ])\n",
        "\n",
        "\n",
        "\n",
        "\n",
        "# Separate features and target\n",
        "X = df.drop(columns=['Health'])\n",
        "y = df['Health']\n",
        "\n",
        "\n",
        "# Verify dimensions\n",
        "X.shape, y.shape\n"
      ]
    },
    {
      "cell_type": "code",
      "execution_count": 87,
      "metadata": {
        "colab": {
          "base_uri": "https://localhost:8080/",
          "height": 366
        },
        "id": "PXDbt4vo3B9P",
        "outputId": "f43bd9e7-d402-4daf-a0ab-3004f5de37bf"
      },
      "outputs": [
        {
          "data": {
            "text/plain": [
              "Gender            int64\n",
              "Age               int64\n",
              "Systolic BP       int64\n",
              "Diastolic BP    float64\n",
              "Cholesterol       int64\n",
              "BMI             float64\n",
              "Smoker            int64\n",
              "Diabetes          int64\n",
              "dtype: object"
            ]
          },
          "execution_count": 87,
          "metadata": {},
          "output_type": "execute_result"
        }
      ],
      "source": [
        "# Encode Gender\n",
        "X['Gender'] = X['Gender'].map({'male': 1, 'female': 0})\n",
        "\n",
        "# Convert boolean columns to integers\n",
        "X['Smoker'] = X['Smoker'].astype(int)\n",
        "X['Diabetes'] = X['Diabetes'].astype(int)\n",
        "\n",
        "\n",
        "# from sklearn.preprocessing import LabelEncoder\n",
        "\n",
        "# le = LabelEncoder()\n",
        "# y_encoded = le.fit_transform(y)\n",
        "\n",
        "# # Optional: see the mapping\n",
        "# print(dict(zip(le.classes_, le.transform(le.classes_))))\n",
        "\n",
        "# # Replace y if needed\n",
        "# y = y_encoded\n",
        "\n",
        "# Quick verification\n",
        "X.head()\n",
        "X.dtypes\n"
      ]
    },
    {
      "cell_type": "code",
      "execution_count": 88,
      "metadata": {
        "colab": {
          "base_uri": "https://localhost:8080/"
        },
        "id": "roR_NTLf3DUJ",
        "outputId": "25044993-0299-48ae-cf78-70411a6ea5e9"
      },
      "outputs": [
        {
          "data": {
            "text/plain": [
              "((800, 8), (200, 8))"
            ]
          },
          "execution_count": 88,
          "metadata": {},
          "output_type": "execute_result"
        }
      ],
      "source": [
        "from sklearn.model_selection import train_test_split\n",
        "\n",
        "X_train, X_test, y_train, y_test = train_test_split(\n",
        "    X, y, test_size=0.2, random_state=42, stratify=y\n",
        ")\n",
        "\n",
        "X_train.shape, X_test.shape"
      ]
    },
    {
      "cell_type": "markdown",
      "metadata": {
        "id": "2xEZ0BZc3y8g"
      },
      "source": [
        "# DECISION TREE CLASSIFIER"
      ]
    },
    {
      "cell_type": "code",
      "execution_count": 99,
      "metadata": {},
      "outputs": [
        {
          "name": "stdout",
          "output_type": "stream",
          "text": [
            "Decision Tree Accuracy: 0.935\n",
            "\n",
            "Classification Report:\n",
            "               precision    recall  f1-score   support\n",
            "\n",
            "         Bad       0.96      0.93      0.95        46\n",
            "        Fair       0.94      0.97      0.96       132\n",
            "        Good       0.84      0.73      0.78        22\n",
            "\n",
            "    accuracy                           0.94       200\n",
            "   macro avg       0.91      0.88      0.89       200\n",
            "weighted avg       0.93      0.94      0.93       200\n",
            "\n"
          ]
        }
      ],
      "source": [
        "from sklearn.tree import DecisionTreeClassifier\n",
        "from sklearn.metrics import accuracy_score, classification_report, confusion_matrix\n",
        "\n",
        "# Initialize and train model\n",
        "dt_model = DecisionTreeClassifier(random_state=42)\n",
        "dt_model.fit(X_train, y_train)\n",
        "\n",
        "# Predict on test data\n",
        "y_pred_dt = dt_model.predict(X_test)\n",
        "\n",
        "# Evaluate\n",
        "print(\"Decision Tree Accuracy:\", accuracy_score(y_test, y_pred_dt))\n",
        "print(\"\\nClassification Report:\\n\", classification_report(y_test, y_pred_dt))"
      ]
    },
    {
      "cell_type": "code",
      "execution_count": 89,
      "metadata": {
        "colab": {
          "base_uri": "https://localhost:8080/"
        },
        "id": "anMkCCP331tQ",
        "outputId": "f8dba4c9-f2ba-4e87-a374-e119f45a5e85"
      },
      "outputs": [
        {
          "name": "stdout",
          "output_type": "stream",
          "text": [
            "Decision Tree Accuracy: 0.935\n",
            "\n",
            "Classification Report:\n",
            "               precision    recall  f1-score   support\n",
            "\n",
            "         Bad       0.96      0.93      0.95        46\n",
            "        Fair       0.94      0.97      0.96       132\n",
            "        Good       0.84      0.73      0.78        22\n",
            "\n",
            "    accuracy                           0.94       200\n",
            "   macro avg       0.91      0.88      0.89       200\n",
            "weighted avg       0.93      0.94      0.93       200\n",
            "\n"
          ]
        }
      ],
      "source": [
        "from sklearn.tree import DecisionTreeClassifier\n",
        "from sklearn.metrics import accuracy_score, classification_report, confusion_matrix\n",
        "\n",
        "# Initialize and train model\n",
        "dt_model = DecisionTreeClassifier(random_state=42)\n",
        "dt_model.fit(X_train, y_train)\n",
        "\n",
        "# Predict on test data\n",
        "y_pred_dt = dt_model.predict(X_test)\n",
        "\n",
        "# Evaluate\n",
        "print(\"Decision Tree Accuracy:\", accuracy_score(y_test, y_pred_dt))\n",
        "print(\"\\nClassification Report:\\n\", classification_report(y_test, y_pred_dt))\n"
      ]
    },
    {
      "cell_type": "code",
      "execution_count": 96,
      "metadata": {},
      "outputs": [
        {
          "name": "stdout",
          "output_type": "stream",
          "text": [
            "Predicted Health Risk: Fair\n"
          ]
        },
        {
          "name": "stderr",
          "output_type": "stream",
          "text": [
            "c:\\Users\\Adnan\\AppData\\Local\\Programs\\Python\\Python313\\Lib\\site-packages\\sklearn\\utils\\validation.py:2749: UserWarning: X does not have valid feature names, but DecisionTreeClassifier was fitted with feature names\n",
            "  warnings.warn(\n"
          ]
        }
      ],
      "source": [
        "import joblib\n",
        "import numpy as np\n",
        "\n",
        "# Load your trained model\n",
        "\n",
        "# Example input: [Gender, Age, Systolic_BP, Diastolic_BP, Cholesterol, BMI, Smoker, Diabetes]\n",
        "# Make sure these are all numeric / encoded\n",
        "# Gender: male=2, female=1, Smoker/Diabetes: 1=True, 0=False\n",
        "sample_input = np.array([[2, 35, 129, 83, 188, 25.82, 0, 1]])\n",
        "\n",
        "# Predict\n",
        "pred = dt_model.predict(sample_input)\n",
        "\n",
        "# Since your model outputs string labels directly\n",
        "print(\"Predicted Health Risk:\", pred[0])\n"
      ]
    },
    {
      "cell_type": "code",
      "execution_count": 100,
      "metadata": {},
      "outputs": [
        {
          "name": "stdout",
          "output_type": "stream",
          "text": [
            "Sample 1 → Predicted Health Risk: Good\n",
            "Sample 2 → Predicted Health Risk: Bad\n",
            "Sample 3 → Predicted Health Risk: Bad\n",
            "Sample 4 → Predicted Health Risk: Good\n",
            "Sample 5 → Predicted Health Risk: Bad\n",
            "Sample 6 → Predicted Health Risk: Bad\n",
            "Sample 7 → Predicted Health Risk: Good\n",
            "Sample 8 → Predicted Health Risk: Bad\n",
            "Sample 9 → Predicted Health Risk: Bad\n",
            "Sample 10 → Predicted Health Risk: Good\n"
          ]
        }
      ],
      "source": [
        "import numpy as np\n",
        "import pandas as pd\n",
        "\n",
        "# New sample inputs\n",
        "new_samples = np.array([\n",
        "    [1, 25, 115, 72, 160, 21.5, 0, 0],  # very healthy young female\n",
        "    [2, 40, 138, 85, 215, 27.0, 1, 0],  # smoker male, slightly high BP & cholesterol\n",
        "    [1, 55, 150, 95, 240, 31.0, 1, 1],  # older female, smoker & diabetic\n",
        "    [2, 30, 120, 78, 170, 23.0, 0, 0],  # healthy young male\n",
        "    [1, 50, 135, 88, 200, 25.5, 0, 1],  # diabetic female, mid-age, good vitals otherwise\n",
        "    [2, 65, 155, 98, 250, 33.0, 1, 1],  # high-risk older male, smoker & diabetic\n",
        "    [1, 35, 128, 82, 190, 24.0, 0, 0],  # healthy adult female\n",
        "    [2, 45, 140, 90, 220, 28.0, 1, 0],  # middle-aged male smoker, borderline BP & cholesterol\n",
        "    [1, 60, 148, 92, 230, 29.5, 0, 1],  # older diabetic female, slightly high BP & cholesterol\n",
        "    [2, 38, 125, 80, 185, 23.5, 0, 0],  # healthy adult male\n",
        "])\n",
        "\n",
        "cols = [\"Gender\", \"Age\", \"Systolic BP\", \"Diastolic BP\", \"Cholesterol\", \"BMI\", \"Smoker\", \"Diabetes\"]\n",
        "new_samples_df = pd.DataFrame(new_samples, columns=cols)\n",
        "\n",
        "# Predict using your trained Decision Tree\n",
        "new_predictions = dt_model.predict(new_samples_df)\n",
        "\n",
        "# Display results\n",
        "for i, p in enumerate(new_predictions):\n",
        "    print(f\"Sample {i+1} → Predicted Health Risk: {p}\")\n"
      ]
    },
    {
      "cell_type": "code",
      "execution_count": 102,
      "metadata": {},
      "outputs": [
        {
          "name": "stdout",
          "output_type": "stream",
          "text": [
            "Sample 1 → Predicted Health Risk: Good\n",
            "Sample 2 → Predicted Health Risk: Good\n",
            "Sample 3 → Predicted Health Risk: Good\n",
            "Sample 4 → Predicted Health Risk: Good\n",
            "Sample 5 → Predicted Health Risk: Good\n",
            "Sample 6 → Predicted Health Risk: Fair\n",
            "Sample 7 → Predicted Health Risk: Fair\n",
            "Sample 8 → Predicted Health Risk: Fair\n",
            "Sample 9 → Predicted Health Risk: Fair\n",
            "Sample 10 → Predicted Health Risk: Fair\n",
            "Sample 11 → Predicted Health Risk: Bad\n",
            "Sample 12 → Predicted Health Risk: Bad\n",
            "Sample 13 → Predicted Health Risk: Bad\n",
            "Sample 14 → Predicted Health Risk: Bad\n",
            "Sample 15 → Predicted Health Risk: Bad\n",
            "Sample 16 → Predicted Health Risk: Bad\n",
            "Sample 17 → Predicted Health Risk: Bad\n",
            "Sample 18 → Predicted Health Risk: Bad\n",
            "Sample 19 → Predicted Health Risk: Bad\n",
            "Sample 20 → Predicted Health Risk: Bad\n"
          ]
        }
      ],
      "source": [
        "import numpy as np\n",
        "import pandas as pd\n",
        "\n",
        "# Synthetic dataset covering Good, Fair, Bad\n",
        "validation_samples = np.array([\n",
        "    # Good (Low Risk) → healthy vitals, non-smoker, non-diabetic\n",
        "    [2, 25, 115, 72, 160, 21.5, 0, 0],\n",
        "    [1, 30, 120, 78, 170, 22.5, 0, 0],\n",
        "    [2, 35, 118, 75, 165, 23.0, 0, 0],\n",
        "    [1, 28, 122, 76, 168, 22.0, 0, 0],\n",
        "    [2, 32, 119, 74, 162, 23.5, 0, 0],\n",
        "\n",
        "    # Fair (Medium Risk) → borderline BP, BMI, cholesterol, or single risk factor\n",
        "    [2, 40, 130, 85, 200, 26.0, 0, 0],\n",
        "    [1, 37, 128, 83, 195, 25.0, 0, 1],\n",
        "    [2, 50, 135, 88, 210, 27.5, 0, 0],\n",
        "    [1, 45, 138, 87, 205, 26.8, 0, 0],\n",
        "    [2, 40, 132, 84, 198, 25.5, 1, 0],\n",
        "\n",
        "    # Bad (High Risk) → high BP, cholesterol, smoker + diabetic, older age\n",
        "    [2, 60, 148, 92, 235, 30.5, 1, 1],\n",
        "    [1, 70, 158, 96, 240, 32.2, 1, 1],\n",
        "    [2, 55, 142, 90, 220, 28.4, 1, 0],\n",
        "    [1, 65, 145, 94, 228, 27.6, 1, 0],\n",
        "    [2, 58, 150, 95, 232, 31.0, 1, 1],\n",
        "    [1, 62, 152, 97, 238, 29.8, 1, 1],\n",
        "    [2, 53, 140, 89, 225, 28.0, 1, 1],\n",
        "    [1, 68, 155, 98, 245, 33.0, 1, 1],\n",
        "    [2, 57, 146, 92, 230, 30.0, 1, 0],\n",
        "    [1, 60, 150, 94, 235, 32.0, 1, 1],\n",
        "])\n",
        "\n",
        "cols = [\"Gender\", \"Age\", \"Systolic BP\", \"Diastolic BP\", \"Cholesterol\", \"BMI\", \"Smoker\", \"Diabetes\"]\n",
        "validation_df = pd.DataFrame(validation_samples, columns=cols)\n",
        "\n",
        "# Predict using your trained Decision Tree\n",
        "validation_predictions = dt_model.predict(validation_df)\n",
        "\n",
        "# Display results\n",
        "for i, p in enumerate(validation_predictions):\n",
        "    print(f\"Sample {i+1} → Predicted Health Risk: {p}\")\n"
      ]
    },
    {
      "cell_type": "code",
      "execution_count": 103,
      "metadata": {},
      "outputs": [
        {
          "name": "stdout",
          "output_type": "stream",
          "text": [
            "Sample 1 → Predicted Health Risk: Fair\n",
            "Sample 2 → Predicted Health Risk: Fair\n",
            "Sample 3 → Predicted Health Risk: Good\n",
            "Sample 4 → Predicted Health Risk: Bad\n",
            "Sample 5 → Predicted Health Risk: Bad\n",
            "Sample 6 → Predicted Health Risk: Bad\n"
          ]
        }
      ],
      "source": [
        "import numpy as np\n",
        "import pandas as pd\n",
        "\n",
        "borderline_samples = np.array([\n",
        "    # Good → Fair edges\n",
        "    [2, 39, 130, 84, 200, 25.0, 0, 0],  # male, borderline BP & cholesterol\n",
        "    [1, 36, 128, 83, 198, 25.0, 0, 1],  # female, borderline diabetes\n",
        "    [2, 40, 131, 82, 195, 24.5, 0, 0],  # male, borderline age & BP\n",
        "\n",
        "    # Fair → Bad edges\n",
        "    [2, 55, 140, 90, 225, 28.5, 1, 0],  # male, smoker, borderline BP & cholesterol\n",
        "    [1, 60, 145, 92, 230, 30.0, 0, 1],  # female, diabetic, borderline BP & cholesterol\n",
        "    [2, 58, 142, 91, 228, 29.5, 1, 1],  # male, smoker + diabetic, borderline BP & cholesterol\n",
        "])\n",
        "\n",
        "cols = [\"Gender\", \"Age\", \"Systolic BP\", \"Diastolic BP\", \"Cholesterol\", \"BMI\", \"Smoker\", \"Diabetes\"]\n",
        "borderline_df = pd.DataFrame(borderline_samples, columns=cols)\n",
        "\n",
        "# Predict\n",
        "borderline_predictions = dt_model.predict(borderline_df)\n",
        "\n",
        "for i, p in enumerate(borderline_predictions):\n",
        "    print(f\"Sample {i+1} → Predicted Health Risk: {p}\")\n"
      ]
    },
    {
      "cell_type": "markdown",
      "metadata": {
        "id": "6c9RDlLs4L7q"
      },
      "source": [
        "# RANDOM FOREST CLASSIFIER"
      ]
    },
    {
      "cell_type": "code",
      "execution_count": 90,
      "metadata": {
        "colab": {
          "base_uri": "https://localhost:8080/",
          "height": 220
        },
        "id": "Ea4sjThp4Nku",
        "outputId": "93f76695-4116-4d3d-f10b-f68be567ec0c"
      },
      "outputs": [
        {
          "name": "stdout",
          "output_type": "stream",
          "text": [
            "Random Forest Accuracy: 0.92\n",
            "\n",
            "Classification Report:\n",
            "               precision    recall  f1-score   support\n",
            "\n",
            "         Bad       1.00      0.80      0.89        46\n",
            "        Fair       0.89      1.00      0.94       132\n",
            "        Good       1.00      0.68      0.81        22\n",
            "\n",
            "    accuracy                           0.92       200\n",
            "   macro avg       0.96      0.83      0.88       200\n",
            "weighted avg       0.93      0.92      0.92       200\n",
            "\n"
          ]
        }
      ],
      "source": [
        "from sklearn.ensemble import RandomForestClassifier\n",
        "\n",
        "# Initialize model\n",
        "rf_model = RandomForestClassifier(\n",
        "    n_estimators=200,\n",
        "    random_state=42,\n",
        "    class_weight='balanced'\n",
        ")\n",
        "\n",
        "# Train\n",
        "rf_model.fit(X_train, y_train)\n",
        "\n",
        "# Predict\n",
        "y_pred_rf = rf_model.predict(X_test)\n",
        "\n",
        "# Evaluate\n",
        "print(\"Random Forest Accuracy:\", accuracy_score(y_test, y_pred_rf))\n",
        "print(\"\\nClassification Report:\\n\", classification_report(y_test, y_pred_rf))\n"
      ]
    },
    {
      "cell_type": "code",
      "execution_count": 91,
      "metadata": {
        "colab": {
          "base_uri": "https://localhost:8080/",
          "height": 220
        },
        "id": "Gq2YeHy7F3SS",
        "outputId": "fe244060-f6d7-4e01-bc23-069666ddf511"
      },
      "outputs": [
        {
          "name": "stdout",
          "output_type": "stream",
          "text": [
            "Train Accuracy: 1.0\n",
            "Test Accuracy: 0.92\n"
          ]
        }
      ],
      "source": [
        "from sklearn.metrics import accuracy_score, classification_report\n",
        "\n",
        "# Train accuracy\n",
        "y_train_pred = rf_model.predict(X_train)\n",
        "train_acc = accuracy_score(y_train, y_train_pred)\n",
        "\n",
        "# Test accuracy\n",
        "y_test_pred = rf_model.predict(X_test)\n",
        "test_acc = accuracy_score(y_test, y_test_pred)\n",
        "\n",
        "print(\"Train Accuracy:\", train_acc)\n",
        "print(\"Test Accuracy:\", test_acc)\n"
      ]
    },
    {
      "cell_type": "code",
      "execution_count": 92,
      "metadata": {
        "colab": {
          "base_uri": "https://localhost:8080/"
        },
        "id": "WDmjqBEP4o1g",
        "outputId": "e71dc469-6757-4568-eb4b-faeef0f42941"
      },
      "outputs": [
        {
          "name": "stdout",
          "output_type": "stream",
          "text": [
            "CatBoost Accuracy: 0.985\n",
            "\n",
            "Classification Report:\n",
            "               precision    recall  f1-score   support\n",
            "\n",
            "         Bad       1.00      1.00      1.00        46\n",
            "        Fair       0.98      0.99      0.99       132\n",
            "        Good       0.95      0.91      0.93        22\n",
            "\n",
            "    accuracy                           0.98       200\n",
            "   macro avg       0.98      0.97      0.97       200\n",
            "weighted avg       0.98      0.98      0.98       200\n",
            "\n"
          ]
        }
      ],
      "source": [
        "from catboost import CatBoostClassifier\n",
        "\n",
        "cat_model = CatBoostClassifier(\n",
        "    iterations=300,\n",
        "    depth=8,\n",
        "    learning_rate=0.05,\n",
        "    random_seed=42,\n",
        "    verbose=0\n",
        ")\n",
        "\n",
        "# Train\n",
        "cat_model.fit(X_train, y_train)\n",
        "\n",
        "# Predict\n",
        "y_pred_cat = cat_model.predict(X_test)\n",
        "\n",
        "# Evaluate\n",
        "print(\"CatBoost Accuracy:\", accuracy_score(y_test, y_pred_cat))\n",
        "print(\"\\nClassification Report:\\n\", classification_report(y_test, y_pred_cat))\n"
      ]
    },
    {
      "cell_type": "code",
      "execution_count": 93,
      "metadata": {},
      "outputs": [
        {
          "ename": "ValueError",
          "evalue": "Invalid classes inferred from unique values of `y`.  Expected: [0 1 2], got ['Bad' 'Fair' 'Good']",
          "output_type": "error",
          "traceback": [
            "\u001b[31m---------------------------------------------------------------------------\u001b[39m",
            "\u001b[31mValueError\u001b[39m                                Traceback (most recent call last)",
            "\u001b[36mCell\u001b[39m\u001b[36m \u001b[39m\u001b[32mIn[93]\u001b[39m\u001b[32m, line 15\u001b[39m\n\u001b[32m      5\u001b[39m xgb_model = XGBClassifier(\n\u001b[32m      6\u001b[39m     n_estimators=\u001b[32m300\u001b[39m,       \u001b[38;5;66;03m# Number of trees\u001b[39;00m\n\u001b[32m      7\u001b[39m     max_depth=\u001b[32m8\u001b[39m,             \u001b[38;5;66;03m# Maximum tree depth\u001b[39;00m\n\u001b[32m   (...)\u001b[39m\u001b[32m     11\u001b[39m     eval_metric=\u001b[33m'\u001b[39m\u001b[33mmlogloss\u001b[39m\u001b[33m'\u001b[39m   \u001b[38;5;66;03m# Multi-class log loss metric\u001b[39;00m\n\u001b[32m     12\u001b[39m )\n\u001b[32m     14\u001b[39m \u001b[38;5;66;03m# Train the model\u001b[39;00m\n\u001b[32m---> \u001b[39m\u001b[32m15\u001b[39m \u001b[43mxgb_model\u001b[49m\u001b[43m.\u001b[49m\u001b[43mfit\u001b[49m\u001b[43m(\u001b[49m\u001b[43mX_train\u001b[49m\u001b[43m,\u001b[49m\u001b[43m \u001b[49m\u001b[43my_train\u001b[49m\u001b[43m)\u001b[49m\n\u001b[32m     17\u001b[39m \u001b[38;5;66;03m# Predict on test data\u001b[39;00m\n\u001b[32m     18\u001b[39m y_pred_xgb = xgb_model.predict(X_test)\n",
            "\u001b[36mFile \u001b[39m\u001b[32mc:\\Users\\Adnan\\AppData\\Local\\Programs\\Python\\Python313\\Lib\\site-packages\\xgboost\\core.py:729\u001b[39m, in \u001b[36mrequire_keyword_args.<locals>.throw_if.<locals>.inner_f\u001b[39m\u001b[34m(*args, **kwargs)\u001b[39m\n\u001b[32m    727\u001b[39m \u001b[38;5;28;01mfor\u001b[39;00m k, arg \u001b[38;5;129;01min\u001b[39;00m \u001b[38;5;28mzip\u001b[39m(sig.parameters, args):\n\u001b[32m    728\u001b[39m     kwargs[k] = arg\n\u001b[32m--> \u001b[39m\u001b[32m729\u001b[39m \u001b[38;5;28;01mreturn\u001b[39;00m \u001b[43mfunc\u001b[49m\u001b[43m(\u001b[49m\u001b[43m*\u001b[49m\u001b[43m*\u001b[49m\u001b[43mkwargs\u001b[49m\u001b[43m)\u001b[49m\n",
            "\u001b[36mFile \u001b[39m\u001b[32mc:\\Users\\Adnan\\AppData\\Local\\Programs\\Python\\Python313\\Lib\\site-packages\\xgboost\\sklearn.py:1641\u001b[39m, in \u001b[36mXGBClassifier.fit\u001b[39m\u001b[34m(self, X, y, sample_weight, base_margin, eval_set, verbose, xgb_model, sample_weight_eval_set, base_margin_eval_set, feature_weights)\u001b[39m\n\u001b[32m   1636\u001b[39m     expected_classes = \u001b[38;5;28mself\u001b[39m.classes_\n\u001b[32m   1637\u001b[39m \u001b[38;5;28;01mif\u001b[39;00m (\n\u001b[32m   1638\u001b[39m     classes.shape != expected_classes.shape\n\u001b[32m   1639\u001b[39m     \u001b[38;5;129;01mor\u001b[39;00m \u001b[38;5;129;01mnot\u001b[39;00m (classes == expected_classes).all()\n\u001b[32m   1640\u001b[39m ):\n\u001b[32m-> \u001b[39m\u001b[32m1641\u001b[39m     \u001b[38;5;28;01mraise\u001b[39;00m \u001b[38;5;167;01mValueError\u001b[39;00m(\n\u001b[32m   1642\u001b[39m         \u001b[33mf\u001b[39m\u001b[33m\"\u001b[39m\u001b[33mInvalid classes inferred from unique values of `y`.  \u001b[39m\u001b[33m\"\u001b[39m\n\u001b[32m   1643\u001b[39m         \u001b[33mf\u001b[39m\u001b[33m\"\u001b[39m\u001b[33mExpected: \u001b[39m\u001b[38;5;132;01m{\u001b[39;00mexpected_classes\u001b[38;5;132;01m}\u001b[39;00m\u001b[33m, got \u001b[39m\u001b[38;5;132;01m{\u001b[39;00mclasses\u001b[38;5;132;01m}\u001b[39;00m\u001b[33m\"\u001b[39m\n\u001b[32m   1644\u001b[39m     )\n\u001b[32m   1646\u001b[39m params = \u001b[38;5;28mself\u001b[39m.get_xgb_params()\n\u001b[32m   1648\u001b[39m \u001b[38;5;28;01mif\u001b[39;00m \u001b[38;5;28mcallable\u001b[39m(\u001b[38;5;28mself\u001b[39m.objective):\n",
            "\u001b[31mValueError\u001b[39m: Invalid classes inferred from unique values of `y`.  Expected: [0 1 2], got ['Bad' 'Fair' 'Good']"
          ]
        }
      ],
      "source": [
        "from xgboost import XGBClassifier\n",
        "from sklearn.metrics import accuracy_score, classification_report\n",
        "\n",
        "# Initialize XGBoost classifier\n",
        "xgb_model = XGBClassifier(\n",
        "    n_estimators=300,       # Number of trees\n",
        "    max_depth=8,             # Maximum tree depth\n",
        "    learning_rate=0.05,      # Step size shrinkage\n",
        "    random_state=42,         # Reproducibility\n",
        "    use_label_encoder=False, # Avoid warning in recent XGBoost versions\n",
        "    eval_metric='mlogloss'   # Multi-class log loss metric\n",
        ")\n",
        "\n",
        "# Train the model\n",
        "xgb_model.fit(X_train, y_train)\n",
        "\n",
        "# Predict on test data\n",
        "y_pred_xgb = xgb_model.predict(X_test)\n",
        "\n",
        "# Evaluate\n",
        "print(\"XGBoost Accuracy:\", accuracy_score(y_test, y_pred_xgb))\n",
        "print(\"\\nClassification Report:\\n\", classification_report(y_test, y_pred_xgb))\n"
      ]
    },
    {
      "cell_type": "markdown",
      "metadata": {
        "id": "xW4ZeMaY46lL"
      },
      "source": [
        "# **MODEL REPORT**\n",
        "\n",
        "\n",
        "\n",
        "\n",
        "| Model             | Accuracy   | Comments                                                           |\n",
        "| ----------------- | ---------- | ------------------------------------------------------------------ |\n",
        "| **Decision Tree** | 0.9837     | Strong baseline, but prone to overfitting.                         |\n",
        "| **Random Forest** | **0.9968** | Best performance; ensemble smooths variance. Near-perfect results. |\n",
        "| **CatBoost**      | 0.9721     | Slightly lower (expected) — more generalizable, less overfit.      |"
      ]
    },
    {
      "cell_type": "markdown",
      "metadata": {
        "id": "6lZHabMs5SxG"
      },
      "source": [
        "# Use SHAP or feature importance to understand why a patient is high-risk."
      ]
    },
    {
      "cell_type": "code",
      "execution_count": null,
      "metadata": {
        "colab": {
          "base_uri": "https://localhost:8080/",
          "height": 472
        },
        "id": "7riGCaxW5Tjp",
        "outputId": "9b950b3f-d8c1-45fd-ae2b-370e1f10a44f"
      },
      "outputs": [
        {
          "data": {
            "image/png": "[encoded data removed]",
            "text/plain": [
              "<Figure size 640x480 with 1 Axes>"
            ]
          },
          "metadata": {},
          "output_type": "display_data"
        }
      ],
      "source": [
        "import matplotlib.pyplot as plt\n",
        "\n",
        "importances = rf_model.feature_importances_\n",
        "feature_names = X.columns\n",
        "sorted_idx = importances.argsort()\n",
        "\n",
        "plt.barh(feature_names[sorted_idx], importances[sorted_idx])\n",
        "plt.xlabel(\"Feature Importance\")\n",
        "plt.title(\"Random Forest Feature Importance\")\n",
        "plt.show()\n"
      ]
    },
    {
      "cell_type": "code",
      "execution_count": 97,
      "metadata": {
        "colab": {
          "base_uri": "https://localhost:8080/"
        },
        "id": "hIbxDsFh5VCR",
        "outputId": "d7ebae13-71ec-4e6c-886a-e5ab3014f58e"
      },
      "outputs": [
        {
          "data": {
            "text/plain": [
              "['health_risk_model.pkl']"
            ]
          },
          "execution_count": 97,
          "metadata": {},
          "output_type": "execute_result"
        }
      ],
      "source": [
        "import joblib\n",
        "joblib.dump(dt_model, \"health_risk_model.pkl\")"
      ]
    },
    {
      "cell_type": "code",
      "execution_count": null,
      "metadata": {},
      "outputs": [],
      "source": []
    }
  ],
  "metadata": {
    "colab": {
      "provenance": []
    },
    "kernelspec": {
      "display_name": "Python 3",
      "name": "python3"
    },
    "language_info": {
      "codemirror_mode": {
        "name": "ipython",
        "version": 3
      },
      "file_extension": ".py",
      "mimetype": "text/x-python",
      "name": "python",
      "nbconvert_exporter": "python",
      "pygments_lexer": "ipython3",
      "version": "3.13.2"
    }
  },
  "nbformat": 4,
  "nbformat_minor": 0
}
